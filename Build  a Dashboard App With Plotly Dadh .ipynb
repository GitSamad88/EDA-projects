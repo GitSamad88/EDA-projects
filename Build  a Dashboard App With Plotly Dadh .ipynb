{
 "cells": [
  {
   "cell_type": "markdown",
   "id": "8b37c065",
   "metadata": {},
   "source": [
    "## <center> Build a Dashboard Application with Plotly Dash \n"
   ]
  },
  {
   "cell_type": "markdown",
   "id": "9809eee2",
   "metadata": {},
   "source": [
    "in this lab, we will be building a Plotly Dash application for users to perform interactive visual analytics on SpaceX launch data in\n",
    "real-time."
   ]
  },
  {
   "cell_type": "code",
   "execution_count": 19,
   "id": "5702b7bd",
   "metadata": {},
   "outputs": [],
   "source": [
    "#import necessery laibreries\n",
    "import dash\n",
    "import pandas as pd\n",
    "import plotly.express as px\n",
    "import plotly.graph_objects as go\n",
    "from dash import dcc\n",
    "from dash import html\n",
    "from dash import Input\n",
    "from dash import Output\n",
    "import numpy as np"
   ]
  },
  {
   "cell_type": "code",
   "execution_count": 20,
   "id": "252d4d68",
   "metadata": {},
   "outputs": [],
   "source": [
    "# Read the airline data into pandas dataframe\n",
    "spacex_df = pd.read_csv(\"spacex_launch_dash.csv\")\n",
    "max_payload = spacex_df['Payload Mass (kg)'].max()\n",
    "min_payload = spacex_df['Payload Mass (kg)'].min()\n"
   ]
  },
  {
   "cell_type": "code",
   "execution_count": 29,
   "id": "dfe0d60e",
   "metadata": {},
   "outputs": [
    {
     "name": "stdout",
     "output_type": "stream",
     "text": [
      "Dash is running on http://127.1.1.1:6915/\n",
      "\n",
      " * Serving Flask app '__main__'\n",
      " * Debug mode: off\n"
     ]
    }
   ],
   "source": [
    "# creat Dash app\n",
    "app=dash.Dash(__name__)\n",
    "app.layout = html.Div(children=[html.H1('SpaceX Launch Records Dashboard',\n",
    "                                        style={'textAlign': 'center', 'color': '#503D36',\n",
    "                                               'font-size': 40}),\n",
    "                                # TASK 1: Add a dropdown list to enable Launch Site selection\n",
    "                                # The default select value is for ALL sites\n",
    "                                dcc.Dropdown(id='site-dropdown', options=[{'label':'All Sites','value':'All'},\n",
    "                                                                          {'label':'CCAFS LC-40','value':'CCAFS LC-40'},\n",
    "                                                                          {'label':'VAFB SLC-4E','value':'VAFB SLC-4E'},\n",
    "                                                                          {'label':'KSC LC-39A','value':'KSC LC-39A'},\n",
    "                                                                          {'label':'CCAFS SLC-40','value':'CCAFS SLC-40'}],\n",
    "                                            value='All',searchable=True,placeholder=\"Select a Launch Site\"),\n",
    "                                html.Br(),\n",
    "\n",
    "                                # TASK 2: Add a pie chart to show the total successful launches count for all sites\n",
    "                                # If a specific launch site was selected, show the Success vs. Failed counts for the site\n",
    "                                html.Div(dcc.Graph(id='success-pie-chart')),\n",
    "                                html.Br(),\n",
    "\n",
    "                                html.P(\"Payload range (Kg):\"),\n",
    "                                # TASK 3: Add a slider to select payload range\n",
    "                                dcc.RangeSlider(id='payload-slider',\n",
    "                                                 min=0,\n",
    "                                                max=10000,\n",
    "                                                step=1000,\n",
    "                                               value=[min_payload,max_payload]),\n",
    "\n",
    "                                # TASK 4: Add a scatter chart to show the correlation between payload and launch success\n",
    "                                html.Div(dcc.Graph(id='success-payload-scatter-chart')),\n",
    "                                ])\n",
    "\n",
    "# TASK 2:\n",
    "# Add a callback function for `site-dropdown` as input, `success-pie-chart` as output\n",
    "@app.callback(Output(component_id='success-pie-chart', component_property='figure'),\n",
    "              Input(component_id='site-dropdown',component_property='value')\n",
    "             )\n",
    "\n",
    "#creat pie chart to show the total successful launches count for all sites\n",
    "# If a specific launch site was selected, show the Success vs. Failed counts for the site\n",
    "def get_pie_chart(entered_value):\n",
    "    if entered_value==\"All\":\n",
    "        pie_fig=px.pie(spacex_df,\n",
    "                   names=\"Launch Site\",values=\"class\",\n",
    "                   color=\"Launch Site\",\n",
    "                   title=\"Total Success Launches for all sites\")\n",
    "        return pie_fig\n",
    "    else:\n",
    "        Site_class=spacex_df[[\"Launch Site\",\"class\"]].value_counts().to_frame().reset_index().rename(columns={0:\"Count\"})\n",
    "        Site_class_df=Site_class[Site_class[\"Launch Site\"]==entered_value]\n",
    "        pie_fig=px.pie(Site_class_df,\n",
    "                   names=\"class\",values=\"Count\",\n",
    "                   color=\"class\",\n",
    "                   title=f'Successed vs failed Launches in {entered_value} site')\n",
    "        return pie_fig\n",
    "# TASK 4:\n",
    "# Add a callback function for `site-dropdown` and `payload-slider` as inputs, `success-payload-scatter-chart` as output\n",
    "\n",
    "@app.callback(\n",
    "                Output(component_id='success-payload-scatter-chart',component_property='figure'),\n",
    "                [Input(component_id='site-dropdown',component_property='value'),\n",
    "                Input(component_id='payload-slider',component_property='value')])\n",
    "\n",
    "# creat a scatter chart to show the correlation between payload and launch success.\n",
    "def get_scatter_chart(entered_value, payload_mass=[0,10000]):\n",
    "    if entered_value == 'All':\n",
    "        new_df = spacex_df[spacex_df[\"Payload Mass (kg)\"]>=payload_mass[0]]\n",
    "        new_df1 = new_df[new_df[\"Payload Mass (kg)\"]<=payload_mass[1]]\n",
    "        fig2 = px.scatter(new_df1, y=\"class\", x=\"Payload Mass (kg)\", \n",
    "        color= \"Booster Version Category\", \n",
    "        title=\"Correlation between Payload Mass (Kg) and Launch Outcome\")\n",
    "    else:\n",
    "        new_df = spacex_df[spacex_df[\"Launch Site\"]==entered_value]\n",
    "        new_df1 = new_df[new_df[\"Payload Mass (kg)\"]>=payload_mass[0]]\n",
    "        new_df2 = new_df1[new_df[\"Payload Mass (kg)\"]<=payload_mass[1]]\n",
    "        fig2 = px.scatter(new_df2, y=\"class\", x=\"Payload Mass (kg)\", \n",
    "        color=\"Booster Version Category\", \n",
    "        title=\"Correlation between Payload Mass (Kg) and Launch Outcome\")\n",
    "    return fig2   \n",
    "\n",
    "\n",
    "# run the app:\n",
    "random_port = np.random.randint(1000, 10000)\n",
    "if __name__==\"__main__\":\n",
    "    app.run(host='127.1.1.1',\n",
    "    port=str(random_port))\n",
    "else :\n",
    "    print(\"erorr!\")\n",
    "\n"
   ]
  },
  {
   "cell_type": "code",
   "execution_count": 25,
   "id": "cbefb405",
   "metadata": {},
   "outputs": [
    {
     "name": "stdout",
     "output_type": "stream",
     "text": [
      "Dash is running on http://127.1.1.1:6018/\n",
      "\n",
      " * Serving Flask app '__main__'\n",
      " * Debug mode: off\n"
     ]
    },
    {
     "name": "stderr",
     "output_type": "stream",
     "text": [
      "WARNING: This is a development server. Do not use it in a production deployment. Use a production WSGI server instead.\n",
      " * Running on http://127.1.1.1:6018\n",
      "Press CTRL+C to quit\n",
      "127.0.0.1 - - [01/Jun/2023 20:39:35] \"GET / HTTP/1.1\" 200 -\n",
      "127.0.0.1 - - [01/Jun/2023 20:39:35] \"GET /_dash-component-suites/dash/deps/polyfill@7.v2_10_2m1685609949.12.1.min.js HTTP/1.1\" 200 -\n",
      "127.0.0.1 - - [01/Jun/2023 20:39:35] \"GET /_dash-component-suites/dash/deps/react@16.v2_10_2m1685609949.14.0.min.js HTTP/1.1\" 200 -\n",
      "127.0.0.1 - - [01/Jun/2023 20:39:35] \"GET /_dash-component-suites/dash/deps/react-dom@16.v2_10_2m1685609949.14.0.min.js HTTP/1.1\" 200 -\n",
      "127.0.0.1 - - [01/Jun/2023 20:39:35] \"GET /_dash-component-suites/dash/deps/prop-types@15.v2_10_2m1685609949.8.1.min.js HTTP/1.1\" 200 -\n",
      "127.0.0.1 - - [01/Jun/2023 20:39:35] \"GET /_dash-component-suites/dash/dash-renderer/build/dash_renderer.v2_10_2m1685609949.min.js HTTP/1.1\" 200 -\n",
      "127.0.0.1 - - [01/Jun/2023 20:39:35] \"GET /_dash-component-suites/dash/dcc/dash_core_components.v2_10_0m1685609949.js HTTP/1.1\" 200 -\n",
      "127.0.0.1 - - [01/Jun/2023 20:39:35] \"GET /_dash-component-suites/dash/dcc/dash_core_components-shared.v2_10_0m1685609949.js HTTP/1.1\" 200 -\n",
      "127.0.0.1 - - [01/Jun/2023 20:39:35] \"GET /_dash-component-suites/dash/html/dash_html_components.v2_0_12m1685609949.min.js HTTP/1.1\" 200 -\n",
      "127.0.0.1 - - [01/Jun/2023 20:39:35] \"GET /_dash-component-suites/dash/dash_table/bundle.v5_2_5m1685609949.js HTTP/1.1\" 200 -\n",
      "127.0.0.1 - - [01/Jun/2023 20:39:36] \"GET /_dash-layout HTTP/1.1\" 200 -\n",
      "127.0.0.1 - - [01/Jun/2023 20:39:36] \"GET /_dash-dependencies HTTP/1.1\" 200 -\n",
      "127.0.0.1 - - [01/Jun/2023 20:39:37] \"GET /_favicon.ico?v=2.10.2 HTTP/1.1\" 200 -\n",
      "127.0.0.1 - - [01/Jun/2023 20:39:37] \"GET /_dash-component-suites/dash/dcc/async-dropdown.js HTTP/1.1\" 200 -\n",
      "127.0.0.1 - - [01/Jun/2023 20:39:37] \"GET /_dash-component-suites/dash/dcc/async-graph.js HTTP/1.1\" 200 -\n",
      "127.0.0.1 - - [01/Jun/2023 20:39:37] \"GET /_dash-component-suites/dash/dcc/async-slider.js HTTP/1.1\" 200 -\n",
      "127.0.0.1 - - [01/Jun/2023 20:39:37] \"GET /_dash-component-suites/dash/dcc/async-plotlyjs.js HTTP/1.1\" 200 -\n",
      "127.0.0.1 - - [01/Jun/2023 20:39:37] \"POST /_dash-update-component HTTP/1.1\" 200 -\n",
      "127.0.0.1 - - [01/Jun/2023 20:39:37] \"POST /_dash-update-component HTTP/1.1\" 200 -\n"
     ]
    }
   ],
   "source": [
    "\n"
   ]
  },
  {
   "cell_type": "code",
   "execution_count": 18,
   "id": "c14d4818",
   "metadata": {},
   "outputs": [
    {
     "name": "stdout",
     "output_type": "stream",
     "text": [
      "6175\n"
     ]
    }
   ],
   "source": []
  },
  {
   "cell_type": "code",
   "execution_count": null,
   "id": "274bd895",
   "metadata": {},
   "outputs": [],
   "source": []
  },
  {
   "cell_type": "code",
   "execution_count": null,
   "id": "2db64887",
   "metadata": {},
   "outputs": [],
   "source": []
  }
 ],
 "metadata": {
  "kernelspec": {
   "display_name": "Python 3 (ipykernel)",
   "language": "python",
   "name": "python3"
  },
  "language_info": {
   "codemirror_mode": {
    "name": "ipython",
    "version": 3
   },
   "file_extension": ".py",
   "mimetype": "text/x-python",
   "name": "python",
   "nbconvert_exporter": "python",
   "pygments_lexer": "ipython3",
   "version": "3.10.9"
  }
 },
 "nbformat": 4,
 "nbformat_minor": 5
}
